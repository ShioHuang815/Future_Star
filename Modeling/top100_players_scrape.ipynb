{
 "cells": [
  {
   "cell_type": "code",
   "execution_count": 3,
   "metadata": {},
   "outputs": [
    {
     "name": "stdout",
     "output_type": "stream",
     "text": [
      "              Player  \\\n",
      "0       Lionel Messi   \n",
      "1      Kylian Mbappé   \n",
      "2      Karim Benzema   \n",
      "3     Erling Haaland   \n",
      "4        Luka Modric   \n",
      "..               ...   \n",
      "95     Sandro Tonali   \n",
      "96  Andrew Robertson   \n",
      "97        Leroy Sané   \n",
      "98   Gabriel Barbosa   \n",
      "99  Nicolás Otamendi   \n",
      "\n",
      "                                                                                     Image URL  \n",
      "0      https://media.guim.co.uk/95998dd76aa1c5196a648a5d395717eb577ffb9d/0_0_7677_4609/500.jpg  \n",
      "1     https://media.guim.co.uk/abadabb4475f98e5e4d3b484f1c93ff042b1c8ba/0_95_2742_1645/500.jpg  \n",
      "2     https://media.guim.co.uk/65d111ee08979d1ad86d06816b93573b8ed57525/0_88_5440_3263/500.jpg  \n",
      "3     https://media.guim.co.uk/52414521614247b5c709e9b1a4dd6c40baf23ac1/0_70_2644_1587/500.jpg  \n",
      "4    https://media.guim.co.uk/2de34801abc8d247bfc7b2d7f4fad5ed2277af27/0_177_2800_1681/500.jpg  \n",
      "..                                                                                         ...  \n",
      "95  https://media.guim.co.uk/0a8943539fc9dadf73e04b9228b41e3fbc4e63c1/1239_0_4664_2798/500.jpg  \n",
      "96     https://media.guim.co.uk/940529ce616e998082b86b80847a74f43d9a0da4/0_0_2194_1317/500.jpg  \n",
      "97     https://media.guim.co.uk/d3e828ce1119c3cdb32f3f2deb4d7896ac1d0c99/1_56_1546_928/500.jpg  \n",
      "98     https://media.guim.co.uk/34f459475c9e9d3f2684bc1a491c44ec0e9ecdd0/0_0_4305_2583/500.jpg  \n",
      "99   https://media.guim.co.uk/d01b8d1a0602f0e2e20f793d447f2759b0a0893b/0_212_6615_3969/500.jpg  \n",
      "\n",
      "[100 rows x 2 columns]\n"
     ]
    }
   ],
   "source": [
    "from selenium import webdriver\n",
    "from selenium.webdriver.common.by import By\n",
    "import time\n",
    "import pandas as pd\n",
    "\n",
    "# Set up Selenium WebDriver\n",
    "driver = webdriver.Chrome() # Ensure ChromeDriver is installed\n",
    "url = \"https://www.theguardian.com/football/ng-interactive/2023/jan/24/the-100-best-male-footballers-in-the-world-2022\"\n",
    "driver.get(url)\n",
    "\n",
    "# Allow the page to load\n",
    "time.sleep(5)\n",
    "\n",
    "# Locate the element using XPath\n",
    "element_to_click = driver.find_element(By.XPATH, '//*[@id=\"gv-grid-cell-inner_0\"]')\n",
    "\n",
    "driver.execute_script(\"arguments[0].scrollIntoView();\", element_to_click)\n",
    "\n",
    "# Click the element\n",
    "element_to_click.click()\n",
    "\n",
    "# Wait for the page to respond\n",
    "time.sleep(10)\n",
    "\n",
    "# Scroll incrementally to load all players\n",
    "for _ in range(100): \n",
    "    driver.execute_script(\"window.scrollBy(0, 500);\") \n",
    "    time.sleep(1)\n",
    "\n",
    "# Extract player names and images\n",
    "player_elements = driver.find_elements(By.CLASS_NAME, \"gv-list-title-name\")\n",
    "image_elements = driver.find_elements(By.TAG_NAME, \"img\")\n",
    "\n",
    "players = [element.text.strip() for element in player_elements if element.text]\n",
    "images = [img.get_attribute(\"src\") for img in image_elements if \"jpg\" in img.get_attribute(\"src\")]\n",
    "\n",
    "pd.set_option('display.max_colwidth', None)\n",
    "data = list(zip(players, images))\n",
    "\n",
    "# Create a DataFrame\n",
    "df = pd.DataFrame(data, columns=['Player', 'Image URL'])\n",
    "\n",
    "# Display the DataFrame\n",
    "print(df)\n",
    "\n",
    "#Save csv\n",
    "df.to_csv('top_players.csv', index=False, encoding = 'latin-1', errors = 'ignore')\n",
    "# Quit the driver\n",
    "driver.quit()\n"
   ]
  },
  {
   "cell_type": "code",
   "execution_count": null,
   "metadata": {},
   "outputs": [],
   "source": []
  }
 ],
 "metadata": {
  "kernelspec": {
   "display_name": "base",
   "language": "python",
   "name": "python3"
  },
  "language_info": {
   "codemirror_mode": {
    "name": "ipython",
    "version": 3
   },
   "file_extension": ".py",
   "mimetype": "text/x-python",
   "name": "python",
   "nbconvert_exporter": "python",
   "pygments_lexer": "ipython3",
   "version": "3.12.7"
  }
 },
 "nbformat": 4,
 "nbformat_minor": 2
}
