{
 "cells": [
  {
   "cell_type": "code",
   "execution_count": 80,
   "metadata": {},
   "outputs": [],
   "source": [
    "combined_df = pd.read_csv('clean_combined_df.csv')"
   ]
  },
  {
   "cell_type": "code",
   "execution_count": null,
   "metadata": {},
   "outputs": [],
   "source": [
    "import pandas as pd\n",
    "import numpy as np\n",
    "from sklearn.preprocessing import StandardScaler, OneHotEncoder\n",
    "from sklearn.compose import ColumnTransformer\n",
    "from sklearn.impute import SimpleImputer\n",
    "from sklearn.decomposition import TruncatedSVD\n",
    "from sklearn.neighbors import NearestNeighbors\n",
    "from sklearn.pipeline import Pipeline\n",
    "\n",
    "# Assuming 'combined_df' is already loaded into 'data'\n",
    "data = combined_df.copy()\n",
    "\n",
    "# Separate 'Player' and 'ps' columns before processing\n",
    "player_names = data[['Player', 'ps']]\n",
    "\n",
    "# Identify categorical and numerical features (excluding 'Player' and 'ps')\n",
    "categorical_features = data.select_dtypes(include=['object']).columns.drop(['Player'])\n",
    "numerical_features = data.select_dtypes(include=['int64', 'float64']).columns.drop(['ps'])\n",
    "\n",
    "# Define preprocessing pipelines for both numeric and categorical data\n",
    "numerical_transformer = Pipeline(steps=[\n",
    "    ('imputer', SimpleImputer(strategy='mean')),\n",
    "    ('scaler', StandardScaler(with_mean=False))  # Keep data in sparse format\n",
    "])\n",
    "\n",
    "categorical_transformer = Pipeline(steps=[\n",
    "    ('imputer', SimpleImputer(strategy='most_frequent')),\n",
    "    ('onehot', OneHotEncoder(handle_unknown='ignore', sparse=True))  # Output sparse matrix\n",
    "])\n",
    "\n",
    "# Bundle preprocessing for numeric and categorical data\n",
    "preprocessor = ColumnTransformer(\n",
    "    transformers=[\n",
    "        ('num', numerical_transformer, numerical_features),\n",
    "        ('cat', categorical_transformer, categorical_features)\n",
    "    ])\n",
    "\n",
    "# Apply preprocessing to data excluding 'Player' and 'ps'\n",
    "data_features = data.drop(columns=['Player', 'ps'])\n",
    "\n",
    "# Separate professional and school players\n",
    "professional_players = data[data['ps'] == 0]\n",
    "school_players = data[data['ps'] == 1]\n",
    "\n",
    "# Fit and transform the professional players' data\n",
    "X_prof = preprocessor.fit_transform(professional_players.drop(columns=['Player', 'ps']))\n",
    "\n",
    "# Transform the school players' data\n",
    "X_school = preprocessor.transform(school_players.drop(columns=['Player', 'ps']))\n",
    "\n",
    "# Reduce dimensionality with TruncatedSVD (efficient for sparse data)\n",
    "svd = TruncatedSVD(n_components=32, random_state=42)\n",
    "X_prof_svd = svd.fit_transform(X_prof)\n",
    "X_school_svd = svd.transform(X_school)\n",
    "\n",
    "# Use NearestNeighbors to find the closest professional player for each school player\n",
    "nbrs = NearestNeighbors(n_neighbors=1, algorithm='auto').fit(X_prof_svd)\n",
    "distances, indices = nbrs.kneighbors(X_school_svd)\n",
    "\n",
    "# Create matched pairs\n",
    "matched_pairs = pd.DataFrame({\n",
    "    'school_player': school_players['Player'].values,\n",
    "    'matched_professional_player': professional_players['Player'].values[indices.flatten()]\n",
    "})\n",
    "\n",
    "# Display the first few matched pairs\n",
    "print(matched_pairs.head())\n"
   ]
  },
  {
   "cell_type": "code",
   "execution_count": null,
   "metadata": {},
   "outputs": [],
   "source": [
    "matched_pairs"
   ]
  },
  {
   "cell_type": "markdown",
   "metadata": {},
   "source": []
  },
  {
   "cell_type": "code",
   "execution_count": null,
   "metadata": {},
   "outputs": [],
   "source": [
    "avg_distance = np.mean([distances[i, closest_professional_indices[i]] for i in range(len(school_features))])\n",
    "print(f'Average Distance to Matched Professional Players: {avg_distance}')\n"
   ]
  },
  {
   "cell_type": "code",
   "execution_count": null,
   "metadata": {},
   "outputs": [],
   "source": [
    "# Reconstruct the professional players' data\n",
    "reconstructed_prof = autoencoder.predict(X_prof)\n",
    "\n",
    "# Calculate reconstruction error for professional players\n",
    "professional_reconstruction_error = np.mean(np.square(X_prof - reconstructed_prof), axis=1)\n",
    "\n",
    "# Calculate average reconstruction error for professional players\n",
    "avg_professional_reconstruction_error = np.mean(professional_reconstruction_error)\n",
    "print(f'Average Reconstruction Error for Professional Players: {avg_professional_reconstruction_error:.4f}')\n",
    "\n",
    "# Reconstruct the school players' data\n",
    "reconstructed_school = autoencoder.predict(X_school)\n",
    "\n",
    "# Calculate reconstruction error for school players\n",
    "school_reconstruction_error = np.mean(np.square(X_school - reconstructed_school), axis=1)\n",
    "\n",
    "# Calculate average reconstruction error for school players\n",
    "avg_school_reconstruction_error = np.mean(school_reconstruction_error)\n",
    "print(f'Average Reconstruction Error for School Players: {avg_school_reconstruction_error:.4f}')\n",
    "\n",
    "# Optional: Compare Errors\n",
    "if avg_school_reconstruction_error > avg_professional_reconstruction_error:\n",
    "    print(\"School players have a higher reconstruction error, indicating they are different from professional players in the learned feature space.\")\n",
    "else:\n",
    "    print(\"School players have a similar reconstruction error to professional players, indicating good representation in the learned feature space.\")\n"
   ]
  }
 ],
 "metadata": {
  "kernelspec": {
   "display_name": "base",
   "language": "python",
   "name": "python3"
  },
  "language_info": {
   "codemirror_mode": {
    "name": "ipython",
    "version": 3
   },
   "file_extension": ".py",
   "mimetype": "text/x-python",
   "name": "python",
   "nbconvert_exporter": "python",
   "pygments_lexer": "ipython3",
   "version": "3.9.18"
  }
 },
 "nbformat": 4,
 "nbformat_minor": 2
}
